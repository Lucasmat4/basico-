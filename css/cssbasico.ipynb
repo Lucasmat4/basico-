{
 "cells": [
  {
   "cell_type": "code",
   "execution_count": null,
   "metadata": {},
   "outputs": [],
   "source": [
    "body {\n",
    "    font-family: Arial, sans-serif;\n",
    "    margin: 0;\n",
    "    padding: 0;\n",
    "    background-color: #f0f0f0;\n",
    "}\n",
    "\n",
    ".container {\n",
    "    width: 80%;\n",
    "    max-width: 600px;\n",
    "    margin: 50px auto;\n",
    "    background-color: #fff;\n",
    "    padding: 20px;\n",
    "    border-radius: 5px;\n",
    "    box-shadow: 0 2px 4px rgba(0, 0, 0, 0.1);\n",
    "}\n",
    "\n",
    "h1 {\n",
    "    color: #333;\n",
    "}\n",
    "\n",
    "p {\n",
    "    color: #666;\n",
    "}\n"
   ]
  }
 ],
 "metadata": {
  "language_info": {
   "name": "python"
  },
  "orig_nbformat": 4
 },
 "nbformat": 4,
 "nbformat_minor": 2
}
